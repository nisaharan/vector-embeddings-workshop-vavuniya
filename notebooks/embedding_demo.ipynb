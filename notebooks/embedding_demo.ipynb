{
 "cells": [
  {
   "metadata": {},
   "cell_type": "markdown",
   "source": [
    "This notebook demonstrates how to load GloVe embeddings, reduce their dimensionality, and visualize them in 3D with color encoding.\n",
    "\n",
    "## Steps\n",
    "1. Load GloVe vectors from `glove.6B.100d.txt`\n",
    "2. Select sample words\n",
    "3. Reduce dimensions using PCA\n",
    "4. Generate RGB colors based on vector components\n",
    "5. Create a 3D scatter plot with Plotly"
   ],
   "id": "fd29b8dfa08b660a"
  },
  {
   "cell_type": "code",
   "execution_count": null,
   "id": "initial_id",
   "metadata": {
    "collapsed": true
   },
   "outputs": [],
   "source": [
    "import numpy as np\n",
    "from sklearn.decomposition import PCA\n",
    "import plotly.graph_objects as go"
   ]
  },
  {
   "metadata": {},
   "cell_type": "markdown",
   "source": "# Load GloVe vectors",
   "id": "40365c9d56505cdd"
  },
  {
   "metadata": {},
   "cell_type": "code",
   "outputs": [],
   "execution_count": null,
   "source": [
    "def load_glove(file_path, vocab_size=100):\n",
    "    embeddings = []\n",
    "    labels = []\n",
    "    with open(file_path, 'r', encoding='utf-8') as f:\n",
    "        for i, line in enumerate(f):\n",
    "            if i >= vocab_size:\n",
    "                break\n",
    "            values = line.strip().split()\n",
    "            labels.append(values[0])\n",
    "            vector = np.asarray(values[1:], dtype='float32')\n",
    "            embeddings.append(vector)\n",
    "    return np.array(embeddings), labels\n"
   ],
   "id": "2fb7e1dd357fb79"
  },
  {
   "metadata": {},
   "cell_type": "markdown",
   "source": "# Normalize to unit vectors",
   "id": "96b16fa81fe8bb6d"
  },
  {
   "metadata": {},
   "cell_type": "code",
   "outputs": [],
   "execution_count": null,
   "source": [
    "def normalize(vectors):\n",
    "    norms = np.linalg.norm(vectors, axis=1, keepdims=True)\n",
    "    return vectors / norms\n"
   ],
   "id": "53bac64e0074e33a"
  },
  {
   "metadata": {},
   "cell_type": "markdown",
   "source": "# RGB Color Mapping",
   "id": "9dc5586e3d89614"
  },
  {
   "metadata": {},
   "cell_type": "code",
   "outputs": [],
   "execution_count": null,
   "source": [
    "def generate_colors(vectors):\n",
    "    min_vals = vectors.min(axis=0)\n",
    "    max_vals = vectors.max(axis=0)\n",
    "    normed = (vectors - min_vals) / (max_vals - min_vals + 1e-8)\n",
    "    return [f'rgb({int(r*255)}, {int(g*255)}, {int(b*255)})' for r, g, b in normed]"
   ],
   "id": "df98b6d75ae78288"
  },
  {
   "metadata": {},
   "cell_type": "markdown",
   "source": "# Main",
   "id": "73892373805a89b1"
  },
  {
   "metadata": {},
   "cell_type": "code",
   "outputs": [],
   "execution_count": null,
   "source": [
    "embeddings, labels = load_glove('../data/glove.6B.100d.txt', vocab_size=50)\n",
    "embeddings = normalize(embeddings)\n",
    "pca = PCA(n_components=3)\n",
    "reduced = pca.fit_transform(embeddings)\n",
    "colors = generate_colors(reduced)"
   ],
   "id": "4e781614228ee8ad"
  },
  {
   "metadata": {},
   "cell_type": "markdown",
   "source": "# Plot",
   "id": "9c8523808fd0366f"
  },
  {
   "metadata": {},
   "cell_type": "code",
   "outputs": [],
   "execution_count": null,
   "source": [
    "fig = go.Figure(data=[\n",
    "    go.Scatter3d(\n",
    "        x=reduced[:, 0],\n",
    "        y=reduced[:, 1],\n",
    "        z=reduced[:, 2],\n",
    "        mode='markers+text',\n",
    "        text=labels,\n",
    "        marker=dict(size=6, color=colors)\n",
    "    )\n",
    "])\n",
    "fig.update_layout(title=\"3D Word Embeddings Visualization\")\n",
    "fig.show()"
   ],
   "id": "7064e8a71fe5140a"
  }
 ],
 "metadata": {
  "kernelspec": {
   "display_name": "Python 3",
   "language": "python",
   "name": "python3"
  },
  "language_info": {
   "codemirror_mode": {
    "name": "ipython",
    "version": 2
   },
   "file_extension": ".py",
   "mimetype": "text/x-python",
   "name": "python",
   "nbconvert_exporter": "python",
   "pygments_lexer": "ipython2",
   "version": "2.7.6"
  }
 },
 "nbformat": 4,
 "nbformat_minor": 5
}
